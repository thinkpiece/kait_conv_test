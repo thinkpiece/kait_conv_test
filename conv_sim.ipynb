{
 "cells": [
  {
   "cell_type": "markdown",
   "metadata": {},
   "source": [
    "## Mark your own simulator!\n",
    "\n",
    "How to calculate the external/internal memory access costs?"
   ]
  },
  {
   "cell_type": "code",
   "execution_count": null,
   "metadata": {},
   "outputs": [],
   "source": [
    "import copy\n",
    "\n",
    "# define very simple functions\n",
    "class Buffer:\n",
    "    def __init__(self, size):\n",
    "        self._mem  = [ ]\n",
    "        self._size = size\n",
    "    \n",
    "    def fetch(self, index):\n",
    "        if len(self._mem) < self._size:\n",
    "            self._mem.append(copy.deepcopy(index))\n",
    "            return True\n",
    "        else:\n",
    "            print(\"maximum buffer size exceed\")\n",
    "            return False\n",
    "\n",
    "    def access(self, index):\n",
    "        if index in self._mem:\n",
    "            print(\"value found\")\n",
    "            return True\n",
    "        else:\n",
    "            return False\n",
    "\n",
    "    def clear(self):\n",
    "        self._mem.clear()\n",
    "\n",
    "\n",
    "class ExtMemory:\n",
    "    def __init__(self):\n",
    "        self._count = 0\n",
    "    \n",
    "    def access(self, index):\n",
    "        self._count += 1\n",
    "\n",
    "    def clear(self):\n",
    "        self._count = 0\n",
    "\n",
    "    def total(self):\n",
    "        return self._count"
   ]
  },
  {
   "attachments": {},
   "cell_type": "markdown",
   "metadata": {},
   "source": [
    "# let's see the fully-connected layer cases\n",
    "\n",
    "```\n",
    "input_layer  = ExtMemory() # 4096\n",
    "weights      = ExtMemory() # ?\n",
    "output_layer = ExtMemory() # 1024\n",
    "\n",
    "# baseline\n",
    "for o in range(1024):\n",
    "    output_layer.access(o)\n",
    "    for i in range(4096):\n",
    "        input_layer.access(i)\n",
    "        weights.access(i)\n",
    "\n",
    "print(\"input_layer : \", input_layer.total())\n",
    "print(\"weights : \", weights.total())\n",
    "print(\"output_layer : \", output_layer.total())\n",
    "```"
   ]
  }
 ],
 "metadata": {
  "kernelspec": {
   "display_name": "Python 3.10.8 64-bit",
   "language": "python",
   "name": "python3"
  },
  "language_info": {
   "name": "python",
   "version": "3.10.8"
  },
  "orig_nbformat": 4,
  "vscode": {
   "interpreter": {
    "hash": "b0fa6594d8f4cbf19f97940f81e996739fb7646882a419484c72d19e05852a7e"
   }
  }
 },
 "nbformat": 4,
 "nbformat_minor": 2
}
